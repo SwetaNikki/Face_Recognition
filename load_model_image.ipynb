{
 "cells": [
  {
   "cell_type": "code",
   "execution_count": 19,
   "metadata": {},
   "outputs": [],
   "source": [
    "#importing library\n",
    "import numpy as np\n",
    "import cv2\n",
    "import os\n",
    "\n"
   ]
  },
  {
   "cell_type": "code",
   "execution_count": 24,
   "metadata": {},
   "outputs": [],
   "source": [
    "#running other py file\n",
    "%run faceRecognition.ipynb\n",
    "#%run train_model.ipynb\n",
    "#import faceRecognition as fr\n",
    "\n"
   ]
  },
  {
   "cell_type": "code",
   "execution_count": 27,
   "metadata": {},
   "outputs": [
    {
     "name": "stdout",
     "output_type": "stream",
     "text": [
      "face Detected:  [[ 51  67 149 149]]\n"
     ]
    }
   ],
   "source": [
    "#we give path to the image which we want to test (we want to test the image matching or not)\n",
    "test_img=cv2.imread('2.jpg')      #Give path to the image which you want to test\n",
    "\n",
    "#for face detection, we are calling faceDetection method which is in faceRecognition file \n",
    "faces_detected,gray_img=faceDetection(test_img)\n",
    "print(\"face Detected: \",faces_detected)\n",
    "\n",
    "# we want to recognise face, for which I have used LBPH \n",
    "face_recognizer=cv2.face.LBPHFaceRecognizer_create()\n",
    "#reading the training model i.e., yml file which we already trained in train model file\n",
    "face_recognizer.read('trainingData.yml')  #Give path of where trainingData.yml is saved\n",
    "\n"
   ]
  },
  {
   "cell_type": "code",
   "execution_count": 28,
   "metadata": {},
   "outputs": [],
   "source": [
    "# here \"name\" is dictionary which will contain all the ID which was in dataset \n",
    "# if we want to name the ID we can by changing the value of each key\n",
    "faceIDlist = np.unique(faceID)\n",
    "name = {}\n",
    "for i in faceIDlist:\n",
    "    name[i] = str(i)\n",
    "                 #Change names accordingly.  If you want to recognize only one person then write:- name={0:\"name\"} thats all. Dont write for id number 1. \n",
    "\n"
   ]
  },
  {
   "cell_type": "code",
   "execution_count": 29,
   "metadata": {},
   "outputs": [
    {
     "name": "stdout",
     "output_type": "stream",
     "text": [
      "Confidence : 0.0\n",
      "label : 60000562\n"
     ]
    },
    {
     "data": {
      "text/plain": [
       "<function destroyAllWindows>"
      ]
     },
     "execution_count": 29,
     "metadata": {},
     "output_type": "execute_result"
    }
   ],
   "source": [
    "# for comparing the given testimage on whether it matches or not with the dataset\n",
    "for face in faces_detected:\n",
    "    (x,y,w,h)=face\n",
    "    roi_gray=gray_img[y:y+h,x:x+h]\n",
    "    label,confidence=face_recognizer.predict(roi_gray)\n",
    "    print (\"Confidence :\",confidence)\n",
    "    print(\"label :\",label)\n",
    "    if confidence>50:\n",
    "        draw_rect(test_img,face)\n",
    "        put_text(test_img,\"NOT MATCHING\",x,y)\n",
    "    else:\n",
    "        draw_rect(test_img,face) # method from faceRecognition file\n",
    "        predicted_name=name[label]\n",
    "        put_text(test_img,\"MATCHING ID:\"+predicted_name,x,y) # method from faceRecognition file\n",
    "        markAttendance(predicted_name)\n",
    "\n",
    "# resizing the image\n",
    "resized_img=cv2.resize(test_img,(1000,700))\n",
    "\n",
    "# show the output\n",
    "cv2.imshow(\"face detection \", resized_img)\n",
    "cv2.waitKey(0)\n",
    "cv2.destroyAllWindows"
   ]
  },
  {
   "cell_type": "code",
   "execution_count": 1,
   "metadata": {},
   "outputs": [],
   "source": [
    "#trin mode\n",
    "\n",
    "\n",
    "#resized_img=cv2.resize(test_img,(1000,700))\n",
    "\n",
    "#cv2.imshow(\"face detection \", resized_img)\n",
    "#cv2.waitKey(0)\n",
    "#cv2.destroyAllWindows"
   ]
  },
  {
   "cell_type": "code",
   "execution_count": null,
   "metadata": {},
   "outputs": [],
   "source": []
  }
 ],
 "metadata": {
  "kernelspec": {
   "display_name": "Python 3",
   "language": "python",
   "name": "python3"
  },
  "language_info": {
   "codemirror_mode": {
    "name": "ipython",
    "version": 3
   },
   "file_extension": ".py",
   "mimetype": "text/x-python",
   "name": "python",
   "nbconvert_exporter": "python",
   "pygments_lexer": "ipython3",
   "version": "3.6.9"
  }
 },
 "nbformat": 4,
 "nbformat_minor": 4
}
