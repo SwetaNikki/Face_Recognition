{
 "cells": [
  {
   "cell_type": "code",
   "execution_count": 2,
   "metadata": {},
   "outputs": [],
   "source": [
    "#importing library\n",
    "import numpy as np\n",
    "import cv2\n",
    "import os\n",
    "\n"
   ]
  },
  {
   "cell_type": "code",
   "execution_count": 3,
   "metadata": {},
   "outputs": [],
   "source": [
    "#running other py file\n",
    "%run faceRecognition.ipynb\n",
    "%run train_model.ipynb\n",
    "#import faceRecognition as fr\n",
    "\n"
   ]
  },
  {
   "cell_type": "code",
   "execution_count": 4,
   "metadata": {},
   "outputs": [],
   "source": [
    "\n",
    "# we want to recognise face, for which I have used LBPH \n",
    "face_recognizer=cv2.face.LBPHFaceRecognizer_create()\n",
    "#reading the training model i.e., yml file which we already trained in train model file\n",
    "face_recognizer.read('trainingData.yml')    #Give path of where trainingData.yml is saved\n",
    "\n"
   ]
  },
  {
   "cell_type": "code",
   "execution_count": 4,
   "metadata": {},
   "outputs": [],
   "source": [
    "# here \"name\" is dictionary which will contain all the ID which was in dataset \n",
    "# if we want to name the ID we can by changing the value of each key\n",
    "faceIDlist = np.unique(faceID)\n",
    "name = {}\n",
    "for i in faceIDlist:\n",
    "    name[i] = str(i)\n",
    "                 #Change names accordingly.  If you want to recognize only one person then write:- name={0:\"name\"} thats all. Dont write for id number 1. \n",
    "\n"
   ]
  },
  {
   "cell_type": "code",
   "execution_count": 1,
   "metadata": {},
   "outputs": [
    {
     "ename": "NameError",
     "evalue": "name 'cv2' is not defined",
     "output_type": "error",
     "traceback": [
      "\u001b[1;31m---------------------------------------------------------------------------\u001b[0m",
      "\u001b[1;31mNameError\u001b[0m                                 Traceback (most recent call last)",
      "\u001b[1;32m<ipython-input-1-afef5fe8ec97>\u001b[0m in \u001b[0;36m<module>\u001b[1;34m\u001b[0m\n\u001b[1;32m----> 1\u001b[1;33m \u001b[0mcap\u001b[0m\u001b[1;33m=\u001b[0m\u001b[0mcv2\u001b[0m\u001b[1;33m.\u001b[0m\u001b[0mVideoCapture\u001b[0m\u001b[1;33m(\u001b[0m\u001b[1;36m0\u001b[0m\u001b[1;33m)\u001b[0m   \u001b[1;31m#If you want to recognise face from a video then replace 0 with video path\u001b[0m\u001b[1;33m\u001b[0m\u001b[1;33m\u001b[0m\u001b[0m\n\u001b[0m\u001b[0;32m      2\u001b[0m \u001b[1;33m\u001b[0m\u001b[0m\n\u001b[0;32m      3\u001b[0m \u001b[1;32mwhile\u001b[0m \u001b[1;32mTrue\u001b[0m\u001b[1;33m:\u001b[0m\u001b[1;33m\u001b[0m\u001b[1;33m\u001b[0m\u001b[0m\n\u001b[0;32m      4\u001b[0m     \u001b[0mret\u001b[0m\u001b[1;33m,\u001b[0m\u001b[0mtest_img\u001b[0m\u001b[1;33m=\u001b[0m\u001b[0mcap\u001b[0m\u001b[1;33m.\u001b[0m\u001b[0mread\u001b[0m\u001b[1;33m(\u001b[0m\u001b[1;33m)\u001b[0m\u001b[1;33m\u001b[0m\u001b[1;33m\u001b[0m\u001b[0m\n\u001b[0;32m      5\u001b[0m     \u001b[0mfaces_detected\u001b[0m\u001b[1;33m,\u001b[0m\u001b[0mgray_img\u001b[0m\u001b[1;33m=\u001b[0m\u001b[0mfaceDetection\u001b[0m\u001b[1;33m(\u001b[0m\u001b[0mtest_img\u001b[0m\u001b[1;33m)\u001b[0m\u001b[1;33m\u001b[0m\u001b[1;33m\u001b[0m\u001b[0m\n",
      "\u001b[1;31mNameError\u001b[0m: name 'cv2' is not defined"
     ]
    }
   ],
   "source": [
    "cap=cv2.VideoCapture(0)   #If you want to recognise face from a video then replace 0 with video path\n",
    "\n",
    "while True:\n",
    "    ret,test_img=cap.read()\n",
    "    faces_detected,gray_img=faceDetection(test_img)\n",
    "    print(\"face Detected: \",faces_detected)\n",
    "    for (x,y,w,h) in faces_detected:\n",
    "        cv2.rectangle(test_img,(x,y),(x+w,y+h),(0,255,0),thickness=5)\n",
    "\n",
    "    \n",
    "    \n",
    "    for face in faces_detected:\n",
    "        (x,y,w,h)=face\n",
    "        roi_gray=gray_img[y:y+h,x:x+h]\n",
    "        label,confidence=face_recognizer.predict(roi_gray)\n",
    "        print (\"Confidence :\",confidence)\n",
    "        print(\"label :\",label)\n",
    "        if confidence>50:\n",
    "            draw_rect(test_img,face)\n",
    "            put_text(test_img,\"NOT MATCHING\",x,y)\n",
    "        else:\n",
    "            draw_rect(test_img,face) # method from faceRecognition file\n",
    "            predicted_name=name[label]\n",
    "            put_text(test_img,\"MATCHING ID:\"+predicted_name,x,y)# method from faceRecognition file\n",
    "            markAttendance(predicted_name)\n",
    "\n",
    "\n",
    "    resized_img=cv2.resize(test_img,(1000,700))\n",
    "\n",
    "    cv2.imshow(\"face detection \", resized_img)\n",
    "    if cv2.waitKey(10)==ord('q'):\n",
    "        cv2.destroyAllWindows() \n",
    "        break\n",
    "        \n",
    "cv2.waitKey(0)\n",
    "cv2.destroyAllWindows()\n",
    "        "
   ]
  },
  {
   "cell_type": "code",
   "execution_count": null,
   "metadata": {},
   "outputs": [],
   "source": []
  }
 ],
 "metadata": {
  "kernelspec": {
   "display_name": "Python 3",
   "language": "python",
   "name": "python3"
  },
  "language_info": {
   "codemirror_mode": {
    "name": "ipython",
    "version": 3
   },
   "file_extension": ".py",
   "mimetype": "text/x-python",
   "name": "python",
   "nbconvert_exporter": "python",
   "pygments_lexer": "ipython3",
   "version": "3.6.9"
  }
 },
 "nbformat": 4,
 "nbformat_minor": 4
}
